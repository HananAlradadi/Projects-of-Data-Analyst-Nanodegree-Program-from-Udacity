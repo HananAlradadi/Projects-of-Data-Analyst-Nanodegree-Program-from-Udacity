{
 "cells": [
  {
   "cell_type": "markdown",
   "id": "c5a60358",
   "metadata": {},
   "source": [
    "# data gathering \n",
    "\n",
    "## 1) twitter_archive\n",
    "\n",
    "### I import this data using pandas to read the csv file in to data firame\n",
    "\n",
    "## 2) image_predictions\n",
    "\n",
    "###  I downloaded the file image predictions file which is in the tsv format\n",
    "\n",
    "## 3) tweet_data\n",
    "\n",
    "###  I downloaded the file tweet_json.txt from the project section since l have issue with setting the API\n"
   ]
  },
  {
   "cell_type": "markdown",
   "id": "e38d6668",
   "metadata": {},
   "source": [
    "# Assessing Data\n",
    "\n",
    "## Tidiness Issues\n",
    "\n",
    "### Tw_archive\n",
    "\n",
    "#### make the columns doggo, floofer, pupper and puppo in  a one column\n",
    "\n",
    "### image_predictions\n",
    "\n",
    "#### Change the names of columns  p1, p2 and p3  in to first_Breed_probability,second_Breed_probability,Third_Breed_probability\n",
    "\n",
    "\n",
    "### tweet_status\n",
    "\n",
    "#### Rename the column id to tweet_id\n",
    "\n",
    "## Quality issues\n",
    "\n",
    "\n",
    "\n",
    "### Tw_archive\n",
    "\n",
    "#### incorrect dog names, and make it as Nan then put it as \"None\" rows\n",
    "\n",
    "####  replace the None with the NaN \n",
    "\n",
    "#### Remove the missing values in column expanded_urls \n",
    "\n",
    "#### Delete all rows containing a value in a in_reply_to_status_id column\n",
    "\n",
    "#### Delete all rows containing a value in a retweeted_status_timestamp column\n",
    "\n",
    "#### Delete all rows containing a value in a retweeted_status_user_id column\n",
    "\n",
    "#### Delete all rows containing a value in a retweeted_status_id column\n",
    "\n",
    "\n",
    "### image_predictions\n",
    "\n",
    "#### Drop unneeded columns\n",
    "\n",
    "\n",
    "\n",
    "### tweet_status\n",
    "\n",
    "#### Drop unneeded columns\n",
    "\n",
    "#### tweet_id, timestamp: wrong data types\n",
    "#### Delete the useless html structure\n",
    "\n",
    "\n",
    "#### Mereg all documents usig tweet_id\n",
    "#### Change datatype of timestamp from str to datetime.\n"
   ]
  },
  {
   "cell_type": "markdown",
   "id": "3fd32a86",
   "metadata": {},
   "source": [
    "#  Cleaning\n",
    "\n",
    "### The above data quality and order issues have been cleaned up by using pandas but befor start cleanig we\n",
    "### make copy for all the dataset so that original dataset remains intact\n",
    "\n",
    "### After completing this part, I stored the clean copy of the data in a csv file for future use."
   ]
  },
  {
   "cell_type": "markdown",
   "id": "efe3ba2a",
   "metadata": {},
   "source": [
    "# Store\n",
    "### I stored the final dataframe into csv file with name twitter_archive_master.csv "
   ]
  },
  {
   "cell_type": "code",
   "execution_count": null,
   "id": "4fc202c2",
   "metadata": {},
   "outputs": [],
   "source": []
  }
 ],
 "metadata": {
  "kernelspec": {
   "display_name": "Python 3",
   "language": "python",
   "name": "python3"
  },
  "language_info": {
   "codemirror_mode": {
    "name": "ipython",
    "version": 3
   },
   "file_extension": ".py",
   "mimetype": "text/x-python",
   "name": "python",
   "nbconvert_exporter": "python",
   "pygments_lexer": "ipython3",
   "version": "3.9.5"
  }
 },
 "nbformat": 4,
 "nbformat_minor": 5
}
